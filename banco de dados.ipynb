{
  "nbformat": 4,
  "nbformat_minor": 0,
  "metadata": {
    "colab": {
      "provenance": [],
      "authorship_tag": "ABX9TyOPVqS6Qdkl08saH15nbqHt",
      "include_colab_link": true
    },
    "kernelspec": {
      "name": "python3",
      "display_name": "Python 3"
    },
    "language_info": {
      "name": "python"
    }
  },
  "cells": [
    {
      "cell_type": "markdown",
      "metadata": {
        "id": "view-in-github",
        "colab_type": "text"
      },
      "source": [
        "<a href=\"https://colab.research.google.com/github/TainaraMarques/TainaraMarques/blob/main/banco%20de%20dados.ipynb\" target=\"_parent\"><img src=\"https://colab.research.google.com/assets/colab-badge.svg\" alt=\"Open In Colab\"/></a>"
      ]
    },
    {
      "cell_type": "code",
      "execution_count": 406,
      "metadata": {
        "colab": {
          "base_uri": "https://localhost:8080/"
        },
        "id": "bM1WsKevi1vn",
        "outputId": "6eba11e7-2aac-44cf-de2c-4d0569e0096c"
      },
      "outputs": [
        {
          "output_type": "stream",
          "name": "stdout",
          "text": [
            "3.10.12\n"
          ]
        }
      ],
      "source": [
        "import sqlite3\n",
        "\n",
        "from platform import python_version\n",
        "\n",
        "print(python_version())\n",
        "\n",
        "Conexao = sqlite3.connect('Banco_Dados')\n",
        "\n",
        "Cursor = Conexao.cursor()\n",
        "\n",
        "Cursor.execute ('CREATE TABLE alunos ( id INTEGER PRIMARY KEY, nome TEXT NOT NULL, idade INTEGER)')\n",
        "\n",
        "Conexao.commit()\n",
        "\n",
        "Cursor.execute ('CREATE TABLE disciplina ( id INTEGER PRIMARY KEY, nome TEXT NOT NULL )')\n",
        "\n",
        "Conexao.commit()\n",
        "\n",
        "Cursor.execute ('CREATE TABLE professor ( id INTEGER PRIMARY KEY, nome TEXT NOT NULL )')\n",
        "\n",
        "Conexao.commit()\n",
        "\n",
        "Cursor.execute ('CREATE TABLE turma ( id INTEGER PRIMARY KEY, nome TEXT NOT NULL, disciplina_id INTEGER, professor_id INTEGER, FOREIGN KEY (disciplina_id) REFERENCES disciplina(id), FOREIGN KEY (professor_id) REFERENCES professor(id) )')\n",
        "\n",
        "Conexao.commit()\n",
        "\n",
        "Cursor.execute ('CREATE TABLE aluno_turma ( aluno_id INTEGER, turma_id INTEGER, FOREIGN KEY (aluno_id) REFERENCES aluno(id), FOREIGN KEY (turma_id) REFERENCES turma(id), PRIMARY KEY (aluno_id, turma_id) )')\n",
        "\n",
        "Conexao.commit()"
      ]
    },
    {
      "cell_type": "code",
      "source": [
        "#1.Insira um novo aluno na tabela de alunos.\n",
        "Cursor.execute('INSERT INTO alunos (id, nome, idade) VALUES (\"20\", \"Pietro\", \"14\");')\n",
        "Cursor.execute('INSERT INTO alunos (id, nome, idade) VALUES (\"5\", \"Leandra\", \"11\");')\n",
        "Cursor.execute('INSERT INTO alunos (id, nome, idade) VALUES (\"7\", \"Pedro\", \"12\");')\n",
        "Cursor.execute('INSERT INTO alunos (id, nome, idade) VALUES (\"4\", \"Laura\", \"14\");')\n",
        "Cursor.execute('INSERT INTO alunos (id, nome, idade) VALUES (\"3\", \"Letícia\", \"12\");')\n",
        "Cursor.execute('INSERT INTO alunos (id, nome, idade) VALUES (\"8\", \"Clara\", \"13\");')\n",
        "Cursor.execute('INSERT INTO alunos (id, nome, idade) VALUES (\"6\", \"Carlos\", \"18\")')\n",
        "Cursor.execute('INSERT INTO alunos (id, nome, idade) VALUES (\"10\", \"Marian\", \"20\")')\n",
        "Cursor.execute('INSERT INTO alunos (id, nome, idade) VALUES (\"11\", \"Rafael\", \"22\")')\n",
        "Cursor.execute('INSERT INTO alunos (id, nome, idade) VALUES (\"12\", \"Carla\", \"19\");')\n",
        "Cursor.execute('INSERT INTO alunos (id, nome, idade) VALUES (\"13\", \"Conor\", \"13\");')\n",
        "Cursor.execute('INSERT INTO alunos (id, nome, idade) VALUES (\"17\", \"Conor\", \"13\");')\n",
        "Cursor.execute('INSERT INTO alunos (id, nome, idade) VALUES (\"14\", \"Luiza\", \"21\");')\n",
        "Cursor.execute('INSERT INTO alunos (id, nome, idade) VALUES (\"15\", \"Felipe\", \"20\");')\n",
        "Cursor.execute('INSERT INTO alunos (id, nome, idade) VALUES (\"19\", \"Gabriel\", \"20\");')\n",
        "Conexao.commit()"
      ],
      "metadata": {
        "id": "0D0NTQgakZwV"
      },
      "execution_count": 407,
      "outputs": []
    },
    {
      "cell_type": "code",
      "source": [
        "#2.Adicione uma nova disciplina ao currículo.\n",
        "Cursor.execute(' INSERT INTO disciplina (id, nome) VALUES (\"1\", \"inglês\"); ')\n",
        "Cursor.execute(' INSERT INTO disciplina (id, nome) VALUES (\"2\", \"física\"); ')\n",
        "Cursor.execute(' INSERT INTO disciplina (id, nome) VALUES (\"3\", \"matemática\"); ')\n",
        "Conexao.commit()"
      ],
      "metadata": {
        "id": "_L9l8iUEk-Tx"
      },
      "execution_count": 408,
      "outputs": []
    },
    {
      "cell_type": "code",
      "source": [
        "Cursor.execute('INSERT INTO turma (id, nome, disciplina_id, professor_id) VALUES (\"7\", \"turma A\",\"1\", \"5\")')\n",
        "Cursor.execute('INSERT INTO turma (id, nome, disciplina_id, professor_id) VALUES (\"4\", \"turma B\",\"2\", \"5\")')\n",
        "Cursor.execute('INSERT INTO turma (id, nome, disciplina_id, professor_id) VALUES (\"2\", \"turma C\",\"3\", \"3\")')\n",
        "Conexao.commit()"
      ],
      "metadata": {
        "id": "XFYuogrzUUYV"
      },
      "execution_count": 409,
      "outputs": []
    },
    {
      "cell_type": "code",
      "source": [
        "#3.Matricule um aluno em uma nova turma.\n",
        "Cursor.execute('INSERT INTO aluno_turma (aluno_id, turma_id) VALUES (11, 7);')\n",
        "Cursor.execute('INSERT INTO aluno_turma (aluno_id, turma_id) VALUES (6, 7);')\n",
        "Cursor.execute('INSERT INTO aluno_turma (aluno_id, turma_id) VALUES (7, 7);')\n",
        "Cursor.execute('INSERT INTO aluno_turma (aluno_id, turma_id) VALUES (17, 7);')\n",
        "Cursor.execute('INSERT INTO aluno_turma (aluno_id, turma_id) VALUES (10, 7);')\n",
        "Cursor.execute('INSERT INTO aluno_turma (aluno_id, turma_id) VALUES (13, 4);')\n",
        "Cursor.execute('INSERT INTO aluno_turma (aluno_id, turma_id) VALUES (14, 4);')\n",
        "Cursor.execute('INSERT INTO aluno_turma (aluno_id, turma_id) VALUES (12, 4);')\n",
        "Cursor.execute('INSERT INTO aluno_turma (aluno_id, turma_id) VALUES (5, 4);')\n",
        "Cursor.execute('INSERT INTO aluno_turma (aluno_id, turma_id) VALUES (19, 4);')\n",
        "Cursor.execute('INSERT INTO aluno_turma (aluno_id, turma_id) VALUES (15, 2);')\n",
        "Cursor.execute('INSERT INTO aluno_turma (aluno_id, turma_id) VALUES (13, 2);')\n",
        "Cursor.execute('INSERT INTO aluno_turma (aluno_id, turma_id) VALUES (20, 2);')\n",
        "Conexao.commit()"
      ],
      "metadata": {
        "id": "K0Fu0rleHOuX"
      },
      "execution_count": 410,
      "outputs": []
    },
    {
      "cell_type": "code",
      "source": [
        "#4.Inclua um novo professor ao quadro docente\n",
        "Cursor.execute('INSERT INTO professor (nome,ID) VALUES (\"Angelina\", 5)')\n",
        "Conexao.commit()"
      ],
      "metadata": {
        "id": "7325O51gHIy1"
      },
      "execution_count": 355,
      "outputs": []
    },
    {
      "cell_type": "code",
      "source": [
        "Cursor.execute('INSERT INTO professor (nome,ID) VALUES (\"Camila\", 3)')\n",
        "Conexao.commit()"
      ],
      "metadata": {
        "id": "03nYcVSOHIkY"
      },
      "execution_count": 356,
      "outputs": []
    },
    {
      "cell_type": "code",
      "source": [
        "Cursor.execute('ALTER TABLE disciplina ADD COLUMN professor_id INTEGER;')\n",
        "Conexao.commit()"
      ],
      "metadata": {
        "id": "TH7ybJHClKvF"
      },
      "execution_count": 357,
      "outputs": []
    },
    {
      "cell_type": "code",
      "source": [
        "#5.Associe um professor a uma disciplina existente.\n",
        "Cursor.execute('UPDATE disciplina SET professor_id = 5 WHERE id = 1')\n",
        "Cursor.execute('UPDATE disciplina SET professor_id = 3 WHERE id = 2')\n",
        "Cursor.execute('UPDATE disciplina SET professor_id = 3 WHERE id = 3')\n",
        "Conexao.commit()"
      ],
      "metadata": {
        "id": "b6jdctGzyT86"
      },
      "execution_count": 358,
      "outputs": []
    },
    {
      "cell_type": "code",
      "source": [
        "#1.Atualize a idade de um aluno.\n",
        "Cursor.execute('UPDATE alunos SET idade = 15 WHERE id = 11')\n",
        "Conexao.commit()"
      ],
      "metadata": {
        "id": "7avTWSrPyZ0x"
      },
      "execution_count": 359,
      "outputs": []
    },
    {
      "cell_type": "code",
      "source": [
        "#2.Altere o nome de uma disciplina.\n",
        "Cursor.execute('UPDATE disciplina SET nome = ? WHERE id = ?', ('química', 1))\n",
        "Conexao.commit()"
      ],
      "metadata": {
        "id": "V85rpTx1KZVs"
      },
      "execution_count": 360,
      "outputs": []
    },
    {
      "cell_type": "code",
      "source": [
        "#3.Modifique o nome de uma turma.\n",
        "Cursor.execute('UPDATE turma SET nome = ? WHERE id = ?', ('turma D', 4))\n",
        "Conexao.commit()"
      ],
      "metadata": {
        "id": "kSuZjWGsK_QS"
      },
      "execution_count": 361,
      "outputs": []
    },
    {
      "cell_type": "code",
      "source": [
        "#4.Atualize o nome de um professor.\n",
        "Cursor.execute('UPDATE professor SET nome = ? WHERE id = ?', ('Yohan', 3))\n",
        "Conexao.commit()"
      ],
      "metadata": {
        "id": "CiiGniFDLk6y"
      },
      "execution_count": 362,
      "outputs": []
    },
    {
      "cell_type": "code",
      "source": [
        "#4.Altere a turma em que um aluno está matriculado.\n",
        "Cursor.execute('UPDATE aluno_turma SET turma_id = 3 WHERE aluno_id = 15')\n",
        "Conexao.commit()"
      ],
      "metadata": {
        "id": "RkGC5t5iMYPU"
      },
      "execution_count": 363,
      "outputs": []
    },
    {
      "cell_type": "code",
      "source": [
        "#1.Selecione todos os alunos matriculados em uma determinada turma.\n",
        "Cursor.execute('''\n",
        "    SELECT alunos.nome\n",
        "    FROM alunos\n",
        "    INNER JOIN aluno_turma ON alunos.id = aluno_turma.aluno_id\n",
        "    WHERE aluno_turma.turma_id = 7\n",
        "''')\n",
        "Conexao.commit()\n",
        "resultados = Cursor.fetchall()\n",
        "\n",
        "for row in resultados:\n",
        "    print(row)"
      ],
      "metadata": {
        "colab": {
          "base_uri": "https://localhost:8080/"
        },
        "id": "QxOVsPHOOZWd",
        "outputId": "d000b1c0-9443-462f-9d22-53fbbdf687fc"
      },
      "execution_count": 364,
      "outputs": [
        {
          "output_type": "stream",
          "name": "stdout",
          "text": [
            "('Rafael',)\n",
            "('Carlos',)\n",
            "('Pedro',)\n",
            "('Conor',)\n",
            "('Marian',)\n"
          ]
        }
      ]
    },
    {
      "cell_type": "code",
      "source": [
        "#2.Liste o nome e a idade de todos os alunos.\n",
        "Cursor.execute('SELECT nome, idade FROM alunos')\n",
        "Conexao.commit()\n",
        "resultados = Cursor.fetchall()\n",
        "\n",
        "for row in resultados:\n",
        "    print(\"Nome:\", row)\n",
        "    print(\"Idade:\", row)\n"
      ],
      "metadata": {
        "id": "OC3XIt4BU7ID",
        "outputId": "9cbb49d6-42d5-4718-a00d-1b6025991062",
        "colab": {
          "base_uri": "https://localhost:8080/"
        }
      },
      "execution_count": 422,
      "outputs": [
        {
          "output_type": "stream",
          "name": "stdout",
          "text": [
            "Nome: ('Letícia', 12)\n",
            "Idade: ('Letícia', 12)\n",
            "Nome: ('Laura', 14)\n",
            "Idade: ('Laura', 14)\n",
            "Nome: ('Leandra', 11)\n",
            "Idade: ('Leandra', 11)\n",
            "Nome: ('Carlos', 18)\n",
            "Idade: ('Carlos', 18)\n",
            "Nome: ('Pedro', 12)\n",
            "Idade: ('Pedro', 12)\n",
            "Nome: ('Clara', 13)\n",
            "Idade: ('Clara', 13)\n",
            "Nome: ('Marian', 20)\n",
            "Idade: ('Marian', 20)\n",
            "Nome: ('Rafael', 22)\n",
            "Idade: ('Rafael', 22)\n",
            "Nome: ('Carla', 19)\n",
            "Idade: ('Carla', 19)\n",
            "Nome: ('Conor', 13)\n",
            "Idade: ('Conor', 13)\n",
            "Nome: ('Luiza', 21)\n",
            "Idade: ('Luiza', 21)\n",
            "Nome: ('Felipe', 20)\n",
            "Idade: ('Felipe', 20)\n",
            "Nome: ('Conor', 13)\n",
            "Idade: ('Conor', 13)\n",
            "Nome: ('Gabriel', 20)\n",
            "Idade: ('Gabriel', 20)\n",
            "Nome: ('Pietro', 14)\n",
            "Idade: ('Pietro', 14)\n"
          ]
        }
      ]
    },
    {
      "cell_type": "code",
      "source": [
        "#3.Recupere os nomes das disciplinas ministradas por um professor específico.\n",
        "Cursor.execute('''\n",
        "    SELECT disciplina.nome\n",
        "    FROM disciplina\n",
        "    INNER JOIN turma ON disciplina.id = turma.disciplina_id\n",
        "    INNER JOIN professor ON turma.professor_id = professor.id\n",
        "    WHERE professor.nome = ?\n",
        "''', ('Angelina',))\n",
        "\n",
        "resultados = Cursor.fetchall()\n",
        "\n",
        "for row in resultados:\n",
        "    print(\"Disciplina:\", row)\n"
      ],
      "metadata": {
        "id": "0cY6q0QYVslB",
        "outputId": "fb2466be-ba28-4a3c-f716-e01a6bb70f1a",
        "colab": {
          "base_uri": "https://localhost:8080/"
        }
      },
      "execution_count": 366,
      "outputs": [
        {
          "output_type": "stream",
          "name": "stdout",
          "text": [
            "Disciplina: ('física',)\n",
            "Disciplina: ('química',)\n"
          ]
        }
      ]
    },
    {
      "cell_type": "code",
      "source": [
        "#4.Encontre os alunos que não estão matriculados em nenhuma turma.\n",
        "Cursor.execute('''\n",
        "    SELECT nome\n",
        "    FROM alunos\n",
        "    WHERE id NOT IN (SELECT aluno_id FROM aluno_turma)\n",
        "''')\n",
        "\n",
        "resultados = Cursor.fetchall()\n",
        "\n",
        "for row in resultados:\n",
        "    print(\"Aluno:\", row)\n"
      ],
      "metadata": {
        "id": "05XKEHYYWnO6",
        "outputId": "782ad538-68fa-48c1-ef86-42b0db778614",
        "colab": {
          "base_uri": "https://localhost:8080/"
        }
      },
      "execution_count": 367,
      "outputs": [
        {
          "output_type": "stream",
          "name": "stdout",
          "text": [
            "Aluno: ('Letícia',)\n",
            "Aluno: ('Laura',)\n",
            "Aluno: ('Clara',)\n"
          ]
        }
      ]
    },
    {
      "cell_type": "code",
      "source": [
        "#5.Obtenha o nome do professor e o número de alunos em cada uma de suas turmas.\n",
        "Cursor.execute('''\n",
        "SELECT\n",
        "    professor.nome AS nome_professor,\n",
        "    turma.nome AS nome_turma,\n",
        "    COUNT(aluno_turma.aluno_id) AS numero_alunos\n",
        "FROM\n",
        "    professor\n",
        "INNER JOIN\n",
        "    turma ON professor.id = turma.professor_id\n",
        "LEFT JOIN\n",
        "    aluno_turma ON turma.id = aluno_turma.turma_id\n",
        "GROUP BY\n",
        "    professor.nome, turma.nome;\n",
        "    ''')\n",
        "\n",
        "resultados = Cursor.fetchall()\n",
        "\n",
        "for row in resultados:\n",
        "    print(\"Nome do Professor:\", row)\n",
        "    print(\"Nome da Turma:\", row)\n",
        "    print(\"Número de Alunos:\", row)\n",
        "    print()"
      ],
      "metadata": {
        "id": "8Z5SnCpOXSFp",
        "outputId": "47b4ac04-9ac5-41a2-ff82-7b35a590f9b1",
        "colab": {
          "base_uri": "https://localhost:8080/"
        }
      },
      "execution_count": 368,
      "outputs": [
        {
          "output_type": "stream",
          "name": "stdout",
          "text": [
            "Nome do Professor: ('Angelina', 'turma A', 5)\n",
            "Nome da Turma: ('Angelina', 'turma A', 5)\n",
            "Número de Alunos: ('Angelina', 'turma A', 5)\n",
            "\n",
            "Nome do Professor: ('Angelina', 'turma D', 4)\n",
            "Nome da Turma: ('Angelina', 'turma D', 4)\n",
            "Número de Alunos: ('Angelina', 'turma D', 4)\n",
            "\n",
            "Nome do Professor: ('Yohan', 'turma C', 3)\n",
            "Nome da Turma: ('Yohan', 'turma C', 3)\n",
            "Número de Alunos: ('Yohan', 'turma C', 3)\n",
            "\n"
          ]
        }
      ]
    },
    {
      "cell_type": "code",
      "source": [
        "#1.Remova um aluno da base de dados.\n",
        "Cursor.execute('DELETE FROM alunos WHERE id = 12')\n",
        "Conexao.commit()"
      ],
      "metadata": {
        "id": "0Yhi3dvzaBrp"
      },
      "execution_count": 369,
      "outputs": []
    },
    {
      "cell_type": "code",
      "source": [
        "#2.Exclua uma disciplina do currículo.\n",
        "Cursor.execute('DELETE FROM disciplina WHERE id = 2')\n",
        "Conexao.commit()"
      ],
      "metadata": {
        "id": "mor2Zn4tabBQ"
      },
      "execution_count": 370,
      "outputs": []
    },
    {
      "cell_type": "code",
      "source": [
        "#3.Delete uma turma, removendo também os alunos associados a ela.\n",
        "Cursor.execute('DELETE FROM aluno_turma WHERE turma_id = 4')\n",
        "Conexao.commit()\n",
        "\n",
        "\n",
        "Cursor.execute('DELETE FROM turma WHERE id = 4')\n",
        "Conexao.commit()\n",
        "\n",
        "print(\"Turma e alunos associados removidos com sucesso!!!\")\n"
      ],
      "metadata": {
        "id": "o8Q69TNlcLPO",
        "outputId": "449ca0a8-9b2c-44fb-f255-21ff9c0e3a34",
        "colab": {
          "base_uri": "https://localhost:8080/"
        }
      },
      "execution_count": 371,
      "outputs": [
        {
          "output_type": "stream",
          "name": "stdout",
          "text": [
            "Turma e alunos associados removidos com sucesso!!!\n"
          ]
        }
      ]
    },
    {
      "cell_type": "code",
      "source": [
        "#4.Elimine um professor da instituição.\n",
        "Cursor.execute('DELETE FROM professor WHERE id = 3')\n",
        "Conexao.commit()"
      ],
      "metadata": {
        "id": "bR04U90IdKxY"
      },
      "execution_count": 372,
      "outputs": []
    },
    {
      "cell_type": "code",
      "source": [
        "#5.Desvincule um professor de uma disciplina específica.\n",
        "Cursor.execute('''\n",
        "    UPDATE turma\n",
        "    SET professor_id = NULL\n",
        "    WHERE disciplina_id = 7 AND professor_id = 5\n",
        "'''),\n",
        "Conexao.commit()\n",
        "\n",
        "print(\"Professor desvinculado da disciplina!!!\")"
      ],
      "metadata": {
        "id": "B0aKk61YdzUQ",
        "outputId": "136d0b44-311d-41ae-a9ee-ff78d4547a36",
        "colab": {
          "base_uri": "https://localhost:8080/"
        }
      },
      "execution_count": 373,
      "outputs": [
        {
          "output_type": "stream",
          "name": "stdout",
          "text": [
            "Professor desvinculado da disciplina!!!\n"
          ]
        }
      ]
    },
    {
      "cell_type": "code",
      "source": [
        "#1.Liste os alunos matriculados em cada turma, juntamente com o nome do professor.\n",
        "Cursor.execute('''\n",
        "    SELECT alunos.nome AS nome_aluno, disciplina.nome AS nome_disciplina\n",
        "    FROM alunos\n",
        "    INNER JOIN aluno_turma ON alunos.id = aluno_turma.aluno_id\n",
        "    INNER JOIN turma ON aluno_turma.turma_id = turma.id\n",
        "    INNER JOIN disciplina ON turma.disciplina_id = disciplina.id\n",
        "''')\n",
        "\n",
        "resultados = Cursor.fetchall()\n",
        "\n",
        "if resultados:\n",
        "    print(\"Alunos matriculados nas disciplinas:\")\n",
        "    for aluno, disciplina in resultados:\n",
        "        print(\"- Aluno:\", aluno, \"| Disciplina:\", disciplina)\n",
        "else:\n",
        "    print(\"Nenhum aluno matriculado encontrado.\")\n",
        "\n"
      ],
      "metadata": {
        "id": "30xJcquWeU2q",
        "outputId": "25a64e03-2fe4-4a03-985c-d3899c2eb14e",
        "colab": {
          "base_uri": "https://localhost:8080/"
        }
      },
      "execution_count": 385,
      "outputs": [
        {
          "output_type": "stream",
          "name": "stdout",
          "text": [
            "Alunos matriculados nas disciplinas:\n",
            "- Aluno: Rafael | Disciplina: química\n",
            "- Aluno: Carlos | Disciplina: química\n",
            "- Aluno: Pedro | Disciplina: química\n",
            "- Aluno: Conor | Disciplina: química\n",
            "- Aluno: Marian | Disciplina: química\n",
            "- Aluno: Gabriel | Disciplina: matemática\n",
            "- Aluno: Conor | Disciplina: matemática\n",
            "- Aluno: Pietro | Disciplina: matemática\n"
          ]
        }
      ]
    },
    {
      "cell_type": "code",
      "source": [
        "#2.Recupere todas as turmas ministradas por um professor específico.\n",
        "Cursor.execute('''\n",
        "    SELECT turma.nome AS nome_turma\n",
        "    FROM turma\n",
        "    WHERE professor_id = 5\n",
        "''',)\n",
        "\n",
        "resultados = Cursor.fetchall()\n",
        "\n",
        "if resultados:\n",
        "    print(\"Turmas ministradas pelo professor:\")\n",
        "    for row in resultados:\n",
        "        print(row)"
      ],
      "metadata": {
        "id": "22pgkpzwgQw4",
        "outputId": "fd2ae037-c6f1-48d4-8d83-4ae5bb4c364f",
        "colab": {
          "base_uri": "https://localhost:8080/"
        }
      },
      "execution_count": 375,
      "outputs": [
        {
          "output_type": "stream",
          "name": "stdout",
          "text": [
            "Turmas ministradas pelo professor:\n",
            "- ('turma A',)\n"
          ]
        }
      ]
    },
    {
      "cell_type": "code",
      "source": [
        "#3.Encontre todos os alunos matriculados em disciplinas específicas.\n",
        "Cursor.execute('''\n",
        "    SELECT alunos.nome AS nome_aluno, disciplina.nome AS nome_disciplina\n",
        "    FROM alunos\n",
        "    INNER JOIN aluno_turma ON alunos.id = aluno_turma.aluno_id\n",
        "    INNER JOIN turma ON aluno_turma.turma_id = turma.id\n",
        "    INNER JOIN disciplina ON turma.disciplina_id = disciplina.id\n",
        "    WHERE disciplina.id IN (1, 2)\n",
        "''')\n",
        "\n",
        "resultados = Cursor.fetchall()\n",
        "\n",
        "if resultados:\n",
        "    print(\"Alunos matriculados nas disciplinas específicas:\")\n",
        "    for aluno, disciplina in resultados:\n",
        "        print(\"- Aluno:\", aluno, \"| Disciplina:\", disciplina)"
      ],
      "metadata": {
        "id": "LERShRnVg2V_",
        "outputId": "0a1ed5c3-1860-447f-9d75-2acbfbdf6fee",
        "colab": {
          "base_uri": "https://localhost:8080/"
        }
      },
      "execution_count": 387,
      "outputs": [
        {
          "output_type": "stream",
          "name": "stdout",
          "text": [
            "Alunos matriculados nas disciplinas específicas:\n",
            "- Aluno: Rafael | Disciplina: química\n",
            "- Aluno: Carlos | Disciplina: química\n",
            "- Aluno: Pedro | Disciplina: química\n",
            "- Aluno: Conor | Disciplina: química\n",
            "- Aluno: Marian | Disciplina: química\n"
          ]
        }
      ]
    },
    {
      "cell_type": "code",
      "source": [
        "#4.Obtenha o nome de cada aluno e o nome da disciplina em que está matriculado.\n",
        "Cursor.execute('''\n",
        "    SELECT alunos.nome AS nome_aluno, disciplina.nome AS nome_disciplina\n",
        "    FROM alunos\n",
        "    INNER JOIN aluno_turma ON alunos.id = aluno_turma.aluno_id\n",
        "    INNER JOIN turma ON aluno_turma.turma_id = turma.id\n",
        "    INNER JOIN disciplina ON turma.disciplina_id = disciplina.id\n",
        "''')\n",
        "\n",
        "resultados = Cursor.fetchall()\n",
        "\n",
        "if resultados:\n",
        "    print(\"Alunos matriculados nas disciplinas:\")\n",
        "    for aluno, disciplina in resultados:\n",
        "        print(\"- Aluno:\", aluno, \"| Disciplina:\", disciplina)"
      ],
      "metadata": {
        "id": "y2MhE2rCj21h",
        "outputId": "546bf952-318d-4525-f6d4-ec68ad6f80cc",
        "colab": {
          "base_uri": "https://localhost:8080/"
        }
      },
      "execution_count": 389,
      "outputs": [
        {
          "output_type": "stream",
          "name": "stdout",
          "text": [
            "Alunos matriculados nas disciplinas:\n",
            "- Aluno: Rafael | Disciplina: química\n",
            "- Aluno: Carlos | Disciplina: química\n",
            "- Aluno: Pedro | Disciplina: química\n",
            "- Aluno: Conor | Disciplina: química\n",
            "- Aluno: Marian | Disciplina: química\n",
            "- Aluno: Gabriel | Disciplina: matemática\n",
            "- Aluno: Conor | Disciplina: matemática\n",
            "- Aluno: Pietro | Disciplina: matemática\n"
          ]
        }
      ]
    },
    {
      "cell_type": "code",
      "source": [
        "#5.Liste os nomes dos alunos e o número de disciplinas em que estão matriculados.\n",
        "Cursor.execute('''\n",
        "    SELECT alunos.nome AS nome_aluno, COUNT(aluno_turma.turma_id) AS numero_disciplinas\n",
        "    FROM alunos\n",
        "    INNER JOIN aluno_turma ON alunos.id = aluno_turma.aluno_id\n",
        "    GROUP BY alunos.id\n",
        "''')\n",
        "\n",
        "resultados = Cursor.fetchall()\n",
        "\n",
        "if resultados:\n",
        "    print(\"Alunos e número de disciplinas em que estão matriculados:\")\n",
        "    for aluno, num_disciplinas in resultados:\n",
        "        print(\"- Aluno:\", aluno, \"| Número de disciplinas:\", num_disciplinas)"
      ],
      "metadata": {
        "id": "uwLbX6EglcLj",
        "outputId": "bbdb5598-7b16-4934-eec9-b5ae7736c2fc",
        "colab": {
          "base_uri": "https://localhost:8080/"
        }
      },
      "execution_count": 390,
      "outputs": [
        {
          "output_type": "stream",
          "name": "stdout",
          "text": [
            "Alunos e número de disciplinas em que estão matriculados:\n",
            "- Aluno: Carlos | Número de disciplinas: 1\n",
            "- Aluno: Pedro | Número de disciplinas: 1\n",
            "- Aluno: Marian | Número de disciplinas: 1\n",
            "- Aluno: Rafael | Número de disciplinas: 1\n",
            "- Aluno: Conor | Número de disciplinas: 1\n",
            "- Aluno: Felipe | Número de disciplinas: 1\n",
            "- Aluno: Conor | Número de disciplinas: 1\n",
            "- Aluno: Gabriel | Número de disciplinas: 1\n",
            "- Aluno: Pietro | Número de disciplinas: 1\n"
          ]
        }
      ]
    },
    {
      "cell_type": "code",
      "source": [
        "#1.Encontre as disciplinas que têm o mesmo professor.\n",
        "Cursor.execute('''\n",
        "    SELECT professor.nome AS nome_professor, disciplina.nome AS nome_disciplina, COUNT(*) AS num_disciplinas\n",
        "    FROM professor\n",
        "    INNER JOIN turma ON professor.id = turma.professor_id\n",
        "    INNER JOIN disciplina ON turma.disciplina_id = disciplina.id\n",
        "    GROUP BY professor.id, disciplina.id\n",
        "    HAVING COUNT(*) > 1\n",
        "''')\n",
        "\n",
        "resultados = Cursor.fetchall()\n",
        "\n",
        "if resultados:\n",
        "    print(\"Disciplinas com o mesmo professor:\")\n",
        "    for professor, disciplina, num_disciplinas in resultados:\n",
        "        print(\"- Professor:\", professor, \"| Disciplina:\", disciplina, \"| Número de disciplinas:\", num_disciplinas)\n",
        "\n",
        "else:\n",
        "    print(\"Não há disciplinas com o mesmo professor.\")"
      ],
      "metadata": {
        "id": "8i9vY3V6l0EF",
        "outputId": "e4cde6ed-7b65-4d45-eedd-6a590e94c0ae",
        "colab": {
          "base_uri": "https://localhost:8080/"
        }
      },
      "execution_count": 416,
      "outputs": [
        {
          "output_type": "stream",
          "name": "stdout",
          "text": [
            "Não há disciplinas com o mesmo professor.\n"
          ]
        }
      ]
    },
    {
      "cell_type": "code",
      "source": [
        "#2.Recupere os alunos que estão matriculados em mais de uma turma.\n",
        "Cursor.execute('''\n",
        "    SELECT alunos.nome AS nome_aluno, COUNT(aluno_turma.turma_id) AS num_turmas\n",
        "    FROM alunos\n",
        "    INNER JOIN aluno_turma ON alunos.id = aluno_turma.aluno_id\n",
        "    GROUP BY alunos.id\n",
        "    HAVING COUNT(aluno_turma.turma_id) > 1\n",
        "''')\n",
        "\n",
        "resultados = Cursor.fetchall()\n",
        "\n",
        "if resultados:\n",
        "    print(\"Alunos matriculados em mais de uma turma:\")\n",
        "    for aluno, num_turmas in resultados:\n",
        "        print(\"Aluno:\", aluno, \"Número de turmas:\", num_turmas)\n",
        "else:\n",
        "    print(\"Nenhum aluno matriculado em mais de uma turma encontrado.\")"
      ],
      "metadata": {
        "id": "LoSnJ0LdoAPE",
        "outputId": "0bcf77b7-7f74-4b74-8113-8c7b24f5be23",
        "colab": {
          "base_uri": "https://localhost:8080/"
        }
      },
      "execution_count": 417,
      "outputs": [
        {
          "output_type": "stream",
          "name": "stdout",
          "text": [
            "Alunos matriculados em mais de uma turma:\n",
            "Aluno: Conor Número de turmas: 2\n",
            "Aluno: Pietro Número de turmas: 2\n"
          ]
        }
      ]
    },
    {
      "cell_type": "code",
      "source": [
        "#3.Liste os professores que não estão associados a nenhuma disciplina.\n",
        "Cursor.execute('''\n",
        "    SELECT professor.nome AS nome_professor\n",
        "    FROM professor\n",
        "    LEFT JOIN turma ON professor.id = turma.professor_id\n",
        "    WHERE turma.professor_id IS NULL\n",
        "''')\n",
        "\n",
        "resultados = Cursor.fetchall()\n",
        "\n",
        "if resultados:\n",
        "    print(\"Professores não associados a nenhuma disciplina:\")\n",
        "    for professor in resultados:\n",
        "        print(\"Professor:\", professor)\n",
        "else:\n",
        "    print(\"Todos os professores estão associados a disciplinas.\")\n"
      ],
      "metadata": {
        "id": "lD8t9W62o1EI",
        "outputId": "52ff55fa-e9e4-4476-b1c6-5504634c73e8",
        "colab": {
          "base_uri": "https://localhost:8080/"
        }
      },
      "execution_count": 418,
      "outputs": [
        {
          "output_type": "stream",
          "name": "stdout",
          "text": [
            "Todos os professores estão associados a disciplinas.\n"
          ]
        }
      ]
    },
    {
      "cell_type": "code",
      "source": [
        "#4.Encontre as turmas com menos de 5 alunos matriculados.\n",
        "Cursor.execute('''\n",
        "    SELECT turma.nome AS nome_turma, COUNT(aluno_turma.aluno_id) AS num_alunos\n",
        "    FROM turma\n",
        "    LEFT JOIN aluno_turma ON turma.id = aluno_turma.turma_id\n",
        "    GROUP BY turma.id\n",
        "    HAVING COUNT(aluno_turma.aluno_id) < 5\n",
        "''')\n",
        "\n",
        "resultados = Cursor.fetchall()\n",
        "\n",
        "if resultados:\n",
        "    print(\"Turmas com menos de 5 alunos matriculados:\")\n",
        "    for turma, num_alunos in resultados:\n",
        "        print(\"Turma:\", turma, \"| Número de alunos:\", num_alunos)"
      ],
      "metadata": {
        "id": "BT_vHLXrpIYO",
        "outputId": "8150f56e-fbf3-4eee-d138-1f2b012b39b4",
        "colab": {
          "base_uri": "https://localhost:8080/"
        }
      },
      "execution_count": 419,
      "outputs": [
        {
          "output_type": "stream",
          "name": "stdout",
          "text": [
            "Turmas com menos de 5 alunos matriculados:\n",
            "Turma: turma C | Número de alunos: 3\n"
          ]
        }
      ]
    },
    {
      "cell_type": "code",
      "source": [
        "#5.Obtenha o nome do aluno mais jovem matriculado em cada turma.\n",
        "Cursor.execute('''\n",
        "    SELECT turma.nome AS nome_turma, alunos.nome AS nome_aluno, alunos.idade AS idade_aluno\n",
        "    FROM turma\n",
        "    INNER JOIN aluno_turma ON turma.id = aluno_turma.turma_id\n",
        "    INNER JOIN alunos ON aluno_turma.aluno_id = alunos.id\n",
        "    INNER JOIN (\n",
        "        SELECT aluno_turma.turma_id, MIN(alunos.idade) AS idade_minima\n",
        "        FROM aluno_turma\n",
        "        INNER JOIN alunos ON aluno_turma.aluno_id = alunos.id\n",
        "        GROUP BY aluno_turma.turma_id\n",
        "    ) AS subquery ON aluno_turma.turma_id = subquery.turma_id AND alunos.idade = subquery.idade_minima\n",
        "''')\n",
        "\n",
        "resultados = Cursor.fetchall()\n",
        "\n",
        "if resultados:\n",
        "    print(\"Nome do aluno mais jovem em cada turma:\")\n",
        "    for turma, aluno, idade in resultados:\n",
        "        print(\"- Turma:\", turma, \"| Aluno mais jovem:\", aluno, \"| Idade:\", idade)"
      ],
      "metadata": {
        "id": "qjVRMzJDphAu",
        "outputId": "982e83a8-bb94-481e-a6b3-608f0e682640",
        "colab": {
          "base_uri": "https://localhost:8080/"
        }
      },
      "execution_count": 421,
      "outputs": [
        {
          "output_type": "stream",
          "name": "stdout",
          "text": [
            "Nome do aluno mais jovem em cada turma:\n",
            "- Turma: turma A | Aluno mais jovem: Pedro | Idade: 12\n",
            "- Turma: turma B | Aluno mais jovem: Leandra | Idade: 11\n",
            "- Turma: turma C | Aluno mais jovem: Conor | Idade: 13\n"
          ]
        }
      ]
    }
  ]
}